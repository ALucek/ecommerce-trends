{
 "cells": [
  {
   "cell_type": "markdown",
   "id": "fd13ad80-6c2b-45db-8e2d-fe535c267b3d",
   "metadata": {},
   "source": [
    "# ECommerce AI Trends\n",
    "\n",
    "How modern day AI models (LLMs, Diffusion Models, & Embedding Models) are starting to be applied to E-Commerce Scenarios\n",
    "\n",
    "1. Trying things on with CATVTON\n",
    "2. Embedding/LLM based reccomendation algorithms\n",
    "3. Review summarization\n",
    "4. Copilot for Shopping\n",
    "5. Product placement across scene via Flux Lora"
   ]
  },
  {
   "cell_type": "markdown",
   "id": "0824810e-ba5f-415d-bb37-ba6849825cd3",
   "metadata": {},
   "source": [
    "---\n",
    "# Virtual Try On via Diffusion Models\n",
    "\n",
    "Virtual try-on is a technology that allows people to see how clothing or accessories might look on them without physically wearing the items. It uses image generation (diffusion) models to align and adjust the garment images to fit the person's body shape and pose. We have seen examples using Augmented Reality, however this allows a much more realistic generation.\n",
    "\n",
    "<img src=\"./CatVTON/supreme_jacket_output.png\" width=600>\n",
    "\n",
    "This example was generated using a recently released virtual try on model [CatVTON](https://arxiv.org/abs/2407.15886)- an optimized model based on [Stable Diffusion v1.5 Inpainting](https://huggingface.co/runwayml/stable-diffusion-inpainting), allowing quick and lightweight masked diffusion model generation \n",
    "\n",
    "<img src=\"./CatVTON/catvton_diagram.png\" width=600>\n",
    "\n",
    "### [Use Via HuggingFace Spaces](https://huggingface.co/spaces/zhengchong/CatVTON)  \n",
    "### [Use Via Hosted Gradio Interface](http://120.76.142.206:8888/)"
   ]
  },
  {
   "cell_type": "markdown",
   "id": "1b8be86d-ceb2-4a0d-b62c-9f94ca23c205",
   "metadata": {},
   "source": [
    "---\n",
    "# Personalized and Dynamic Product Photos via Diffusion Models\n",
    "\n",
    "https://github.com/huggingface/diffusers/blob/main/examples/dreambooth/README_flux.md\n",
    "\n",
    "flux lora hehe"
   ]
  },
  {
   "cell_type": "markdown",
   "id": "b09cead8-30c8-4631-af14-9d53c7a421ce",
   "metadata": {},
   "source": [
    "---\n",
    "# Embedding Model Based Product Reccomendation"
   ]
  },
  {
   "cell_type": "markdown",
   "id": "4dee0dae-8859-4bca-95bf-2224b88369f7",
   "metadata": {},
   "source": [
    "---\n",
    "# LLM Shopping Copilot"
   ]
  },
  {
   "cell_type": "markdown",
   "id": "9238be0e-3484-465b-88d0-be0fb7780b00",
   "metadata": {},
   "source": [
    "---\n",
    "# Review and Product Summarizations \n",
    "\n",
    "Google shopping experience these days, amazon reviews"
   ]
  },
  {
   "cell_type": "code",
   "execution_count": null,
   "id": "2deb5fa7-df53-4273-b38d-d92a7863ade8",
   "metadata": {},
   "outputs": [],
   "source": []
  }
 ],
 "metadata": {
  "kernelspec": {
   "display_name": "Python 3 (ipykernel)",
   "language": "python",
   "name": "python3"
  },
  "language_info": {
   "codemirror_mode": {
    "name": "ipython",
    "version": 3
   },
   "file_extension": ".py",
   "mimetype": "text/x-python",
   "name": "python",
   "nbconvert_exporter": "python",
   "pygments_lexer": "ipython3",
   "version": "3.12.0"
  }
 },
 "nbformat": 4,
 "nbformat_minor": 5
}
